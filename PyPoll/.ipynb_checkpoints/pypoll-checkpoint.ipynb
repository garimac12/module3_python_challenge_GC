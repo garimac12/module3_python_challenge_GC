{
 "cells": [
  {
   "cell_type": "code",
   "execution_count": 11,
   "id": "8c4cbbd8",
   "metadata": {},
   "outputs": [
    {
     "name": "stdout",
     "output_type": "stream",
     "text": [
      "['Ballot ID', 'County', 'Candidate']\n",
      "{'Charles Casper Stockham': 85213, 'Diana DeGette': 272892, 'Raymon Anthony Doane': 11606}\n",
      "['Charles Casper Stockham', 'Diana DeGette', 'Raymon Anthony Doane']\n",
      "Election Results\n",
      "------------------------------\n",
      "Total Votes 369711\n",
      "------------------------------\n",
      "\n"
     ]
    }
   ],
   "source": [
    "import csv\n",
    "import os\n",
    "\n",
    "#files to load and output\n",
    "file_to_load = os.path.join(\".\", \"Resources\", \"election_data.csv\")\n",
    "\n",
    "file_to_output = os.path.join(\".\", \"election_analysis.txt\")\n",
    "                              \n",
    "                              \n",
    "                              \n",
    "#Total vote counter                              \n",
    "total_votes = 0\n",
    "                              \n",
    "#candiadte options and candiadte votes                              \n",
    "candidate_votes = {}\n",
    "candidate_options = []\n",
    "\n",
    "#winning candidate and winning count tracker\n",
    "winning_candidate = \" \"                              \n",
    "winning_count = 0\n",
    "                              \n",
    "with open(file_to_load, ) as election_data:\n",
    "    csv_reader = csv.reader(election_data)\n",
    "    \n",
    "    #read the header\n",
    "    header = next(csv_reader)\n",
    "    print(header)\n",
    "    \n",
    "    \n",
    "    #loop through each row\n",
    "    for row in csv_reader:\n",
    "      \n",
    "        #print (row)\n",
    "        \n",
    "        #add to the total votes\n",
    "        total_votes = total_votes + 1 \n",
    "\n",
    "        #get the candidate name from each row\n",
    "        candidate_name = row[2]\n",
    "        \n",
    "        \n",
    "        #looping through the candiadtes to see if not matching existing candidate and then add\n",
    "        if  candidate_name not in candidate_options:\n",
    "            candidate_options.append(candidate_name)\n",
    "            \n",
    "            \n",
    "            candidate_votes[candidate_name] = 0\n",
    "            \n",
    "        candidate_votes[candidate_name] = candidate_votes[candidate_name] + 1\n",
    "            \n",
    "            \n",
    "print(candidate_votes)               \n",
    "print(candidate_options)\n",
    "    \n",
    "        \n",
    "election_results = (\n",
    "    f\"Election Results\\n\"\n",
    "    f\"------------------------------\\n\"\n",
    "    f\"Total Votes {total_votes}\\n\"\n",
    "    f\"------------------------------\\n\"\n",
    "\n",
    "\n",
    ")        \n",
    "   \n",
    "print (election_results)      \n",
    "\n",
    "with open (file_to_output, \"w\")  as txt_file:\n",
    "        txt_file.write(election_results)\n",
    "                          "
   ]
  },
  {
   "cell_type": "code",
   "execution_count": null,
   "id": "5f49a946",
   "metadata": {},
   "outputs": [],
   "source": []
  },
  {
   "cell_type": "code",
   "execution_count": null,
   "id": "38057dbe",
   "metadata": {},
   "outputs": [],
   "source": []
  }
 ],
 "metadata": {
  "kernelspec": {
   "display_name": "Python 3 (ipykernel)",
   "language": "python",
   "name": "python3"
  },
  "language_info": {
   "codemirror_mode": {
    "name": "ipython",
    "version": 3
   },
   "file_extension": ".py",
   "mimetype": "text/x-python",
   "name": "python",
   "nbconvert_exporter": "python",
   "pygments_lexer": "ipython3",
   "version": "3.11.4"
  }
 },
 "nbformat": 4,
 "nbformat_minor": 5
}
